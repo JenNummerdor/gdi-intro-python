{
 "cells": [
  {
   "cell_type": "markdown",
   "metadata": {},
   "source": [
    "Exercise 1:\n",
    "- Ask the user for a number between 1-10\n",
    "- If the number is less than or equal to five, print \"Your number is less than or equal to five\"\n",
    "- If the number is greater than five, print \"Your number is greater than five\""
   ]
  },
  {
   "cell_type": "code",
   "execution_count": 10,
   "metadata": {},
   "outputs": [
    {
     "name": "stdout",
     "output_type": "stream",
     "text": [
      "Give me a number between 1 - 10: 9\n"
     ]
    }
   ],
   "source": [
    "num = int(input(\"Give me a number between 1 - 10: \"))"
   ]
  },
  {
   "cell_type": "code",
   "execution_count": 11,
   "metadata": {},
   "outputs": [
    {
     "data": {
      "text/plain": [
       "9"
      ]
     },
     "execution_count": 11,
     "metadata": {},
     "output_type": "execute_result"
    }
   ],
   "source": [
    "num"
   ]
  },
  {
   "cell_type": "code",
   "execution_count": 12,
   "metadata": {},
   "outputs": [
    {
     "name": "stdout",
     "output_type": "stream",
     "text": [
      "Your number is greater than five\n"
     ]
    }
   ],
   "source": [
    "if num <= 5:\n",
    "    print(\"Your number is less than or equal to five\")\n",
    "else:\n",
    "    print(\"Your number is greater than five\")"
   ]
  },
  {
   "cell_type": "markdown",
   "metadata": {},
   "source": [
    "Exercise 2:\n",
    "- set a variable to a number between 1-10\n",
    "- Ask the user to guess the number\n",
    "- Either respond YES or higher or lower"
   ]
  },
  {
   "cell_type": "code",
   "execution_count": 14,
   "metadata": {
    "collapsed": true
   },
   "outputs": [],
   "source": [
    "num = 5"
   ]
  },
  {
   "cell_type": "code",
   "execution_count": 27,
   "metadata": {},
   "outputs": [
    {
     "name": "stdout",
     "output_type": "stream",
     "text": [
      "Guess a number between 1 - 10: 6\n",
      "Lower\n"
     ]
    }
   ],
   "source": [
    "guess = int(input(\"Guess a number between 1 - 10: \"))\n",
    "\n",
    "if num > guess:\n",
    "    print(\"Higher\")\n",
    "elif num < guess:\n",
    "    print(\"Lower\")\n",
    "else:\n",
    "    print(\"Yes\")"
   ]
  },
  {
   "cell_type": "markdown",
   "metadata": {},
   "source": [
    "Exercise 3:  \n",
    "Write a program that takes numbers from user input and adds thems all together for a final result.  \n",
    "This program should stop taking input, display the answer and exit when the user types \"quit\".  \n",
    "Hint:"
   ]
  },
  {
   "cell_type": "code",
   "execution_count": 30,
   "metadata": {},
   "outputs": [
    {
     "name": "stdout",
     "output_type": "stream",
     "text": [
      "Enter a number:5\n",
      "Enter a number:4\n",
      "Enter a number:3\n",
      "Enter a number:2\n",
      "Enter a number:1\n",
      "Enter a number:quit\n",
      "The final sum is 15\n"
     ]
    }
   ],
   "source": [
    "result = 0\n",
    "while True:\n",
    "    input_value = input(\"Enter a number:\")\n",
    "    if input_value == 'quit':\n",
    "        break\n",
    "    result += int(input_value)\n",
    "    \n",
    "print(\"The final sum is\", result)"
   ]
  },
  {
   "cell_type": "markdown",
   "metadata": {},
   "source": [
    "Exercise 4:   \n",
    "- create a list of strings eg. ['red','yellow','blue']\n",
    "- for each word in the string, print that word\n",
    "\n"
   ]
  },
  {
   "cell_type": "code",
   "execution_count": 33,
   "metadata": {},
   "outputs": [
    {
     "name": "stdout",
     "output_type": "stream",
     "text": [
      "red\n",
      "yellow\n",
      "blue\n"
     ]
    }
   ],
   "source": [
    "colors = [\"red\", \"yellow\", \"blue\"]\n",
    "for word in colors:\n",
    "    print(word)"
   ]
  },
  {
   "cell_type": "markdown",
   "metadata": {},
   "source": [
    "Exercise 5:\n",
    "- Type in range(5) and see what happens\n",
    "- Complete the for loop below\n",
    "- Note that \"pass\" is used to tell python to ignore the function for now\n",
    "    "
   ]
  },
  {
   "cell_type": "code",
   "execution_count": 43,
   "metadata": {},
   "outputs": [
    {
     "data": {
      "text/plain": [
       "range(0, 5)"
      ]
     },
     "execution_count": 43,
     "metadata": {},
     "output_type": "execute_result"
    }
   ],
   "source": [
    "# range gives you zero to (n-1)\n",
    "range(5)"
   ]
  },
  {
   "cell_type": "code",
   "execution_count": 40,
   "metadata": {},
   "outputs": [
    {
     "name": "stdout",
     "output_type": "stream",
     "text": [
      "24\n"
     ]
    }
   ],
   "source": [
    "result = 1\n",
    "for num in range(5):\n",
    "    if num != 0:\n",
    "        result *= num\n",
    "print(result)"
   ]
  },
  {
   "cell_type": "code",
   "execution_count": 42,
   "metadata": {},
   "outputs": [
    {
     "data": {
      "text/plain": [
       "24"
      ]
     },
     "execution_count": 42,
     "metadata": {},
     "output_type": "execute_result"
    }
   ],
   "source": [
    "#Let's check the answer\n",
    "1*2*3*4"
   ]
  },
  {
   "cell_type": "markdown",
   "metadata": {},
   "source": [
    "Exercise 6: (We will do this one together)\n",
    "- Write a function that takes in two numbers and returns the larger number multiplied by 3\n",
    "- HINT: google search for how to do this easily in python\n",
    "- Test it out by calling the function"
   ]
  },
  {
   "cell_type": "code",
   "execution_count": 45,
   "metadata": {
    "collapsed": true
   },
   "outputs": [],
   "source": [
    "def max_multiply_3(a, b):\n",
    "    return(3 * max(a,b))"
   ]
  },
  {
   "cell_type": "code",
   "execution_count": 46,
   "metadata": {},
   "outputs": [
    {
     "data": {
      "text/plain": [
       "18"
      ]
     },
     "execution_count": 46,
     "metadata": {},
     "output_type": "execute_result"
    }
   ],
   "source": [
    "max_multiply_3(5,6)"
   ]
  },
  {
   "cell_type": "markdown",
   "metadata": {},
   "source": [
    "Exercise 7:\n",
    "- Write a function that takes in two numbers and multiplies them together"
   ]
  },
  {
   "cell_type": "code",
   "execution_count": 49,
   "metadata": {
    "collapsed": true
   },
   "outputs": [],
   "source": [
    "def multiply(a,b):\n",
    "    return(a * b)"
   ]
  },
  {
   "cell_type": "code",
   "execution_count": 50,
   "metadata": {},
   "outputs": [
    {
     "data": {
      "text/plain": [
       "30"
      ]
     },
     "execution_count": 50,
     "metadata": {},
     "output_type": "execute_result"
    }
   ],
   "source": [
    "multiply(5,6)"
   ]
  },
  {
   "cell_type": "markdown",
   "metadata": {},
   "source": [
    "Exercise 8: \n",
    "- Write a function that takes a noun and a verb and prints out two statements\n",
    "- \"___ is a noun\"\n",
    "- \"___ is a verb\""
   ]
  },
  {
   "cell_type": "code",
   "execution_count": 53,
   "metadata": {
    "collapsed": true
   },
   "outputs": [],
   "source": [
    "def words_print(noun, verb):\n",
    "    print(noun, \"is a noun\")\n",
    "    print(verb, \"is a verb\")"
   ]
  },
  {
   "cell_type": "code",
   "execution_count": 54,
   "metadata": {},
   "outputs": [
    {
     "name": "stdout",
     "output_type": "stream",
     "text": [
      "cat is a noun\n",
      "meow is a verb\n"
     ]
    }
   ],
   "source": [
    "words_print(\"cat\", \"meow\")"
   ]
  },
  {
   "cell_type": "code",
   "execution_count": null,
   "metadata": {
    "collapsed": true
   },
   "outputs": [],
   "source": []
  }
 ],
 "metadata": {
  "kernelspec": {
   "display_name": "Python [conda env:py36]",
   "language": "python",
   "name": "conda-env-py36-py"
  },
  "language_info": {
   "codemirror_mode": {
    "name": "ipython",
    "version": 3
   },
   "file_extension": ".py",
   "mimetype": "text/x-python",
   "name": "python",
   "nbconvert_exporter": "python",
   "pygments_lexer": "ipython3",
   "version": "3.6.1"
  }
 },
 "nbformat": 4,
 "nbformat_minor": 2
}
