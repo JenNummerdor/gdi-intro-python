{
 "cells": [
  {
   "cell_type": "markdown",
   "metadata": {},
   "source": [
    "# This Session"
   ]
  },
  {
   "cell_type": "markdown",
   "metadata": {},
   "source": [
    "- Boolean Expressions and Conditionals\n",
    "- Lists and Loops"
   ]
  },
  {
   "cell_type": "markdown",
   "metadata": {},
   "source": [
    "# Boolean Expressions"
   ]
  },
  {
   "cell_type": "markdown",
   "metadata": {},
   "source": [
    "Compare values and return True or False. These are Boolean expressions\n",
    "\n",
    "Test for equality by using =="
   ]
  },
  {
   "cell_type": "code",
   "execution_count": null,
   "metadata": {
    "collapsed": true
   },
   "outputs": [],
   "source": [
    "# Set the variables\n",
    "a = 5\n",
    "b = 5"
   ]
  },
  {
   "cell_type": "code",
   "execution_count": null,
   "metadata": {},
   "outputs": [],
   "source": [
    "# Is a equal to b? Use == to find out.\n",
    "a == b"
   ]
  },
  {
   "cell_type": "code",
   "execution_count": null,
   "metadata": {},
   "outputs": [],
   "source": [
    "# Greater than\n",
    "a > 5"
   ]
  },
  {
   "cell_type": "code",
   "execution_count": null,
   "metadata": {},
   "outputs": [],
   "source": [
    "#  Less than\n",
    "a < 5"
   ]
  },
  {
   "cell_type": "code",
   "execution_count": null,
   "metadata": {},
   "outputs": [],
   "source": [
    "# Not equal to\n",
    "a != 5"
   ]
  },
  {
   "cell_type": "code",
   "execution_count": null,
   "metadata": {
    "collapsed": true
   },
   "outputs": [],
   "source": [
    "# Combine assingment of a variable and comparison\n",
    "c = a ==b"
   ]
  },
  {
   "cell_type": "code",
   "execution_count": null,
   "metadata": {},
   "outputs": [],
   "source": [
    "c"
   ]
  },
  {
   "cell_type": "markdown",
   "metadata": {},
   "source": [
    "# Summary of Comparison Operators"
   ]
  },
  {
   "cell_type": "markdown",
   "metadata": {},
   "source": [
    "a == b   a is equal to b  \n",
    "a != b   a is not equal to b  \n",
    "a > b    a is greater than b  \n",
    "a < b    a is less than b  \n",
    "a >= b   a is greater than or equal to b  \n",
    "a <= b   a is less than or equal to b \n"
   ]
  },
  {
   "cell_type": "markdown",
   "metadata": {},
   "source": [
    "# Try it!"
   ]
  },
  {
   "cell_type": "markdown",
   "metadata": {},
   "source": [
    "- Set a = 10 and b = 15\n",
    "- Is a greater than b?\n",
    "- Is a less than b?\n",
    "- Set b = 10\n",
    "- Is a not equal to b?\n",
    "- Is a equal to b?"
   ]
  },
  {
   "cell_type": "markdown",
   "metadata": {},
   "source": [
    "# Conditionals"
   ]
  },
  {
   "cell_type": "markdown",
   "metadata": {},
   "source": [
    "Conditional - different coderuns depending on comparison  \n",
    "We achieve this using if statements"
   ]
  },
  {
   "cell_type": "code",
   "execution_count": null,
   "metadata": {
    "collapsed": true
   },
   "outputs": [],
   "source": [
    "x = 5"
   ]
  },
  {
   "cell_type": "code",
   "execution_count": null,
   "metadata": {},
   "outputs": [],
   "source": [
    "# Don't forge the ':' after the if statement!\n",
    "if x == 5:\n",
    "    print(\"x is equal to five\")"
   ]
  },
  {
   "cell_type": "markdown",
   "metadata": {},
   "source": [
    "### What happens when you set x = 4? Try and see."
   ]
  },
  {
   "cell_type": "markdown",
   "metadata": {},
   "source": [
    "# Else"
   ]
  },
  {
   "cell_type": "markdown",
   "metadata": {},
   "source": [
    "Often useful to run a different block if the statement is false. Use else"
   ]
  },
  {
   "cell_type": "code",
   "execution_count": null,
   "metadata": {
    "collapsed": true
   },
   "outputs": [],
   "source": [
    "x = 4"
   ]
  },
  {
   "cell_type": "code",
   "execution_count": null,
   "metadata": {},
   "outputs": [],
   "source": [
    "if x == 5:\n",
    "    print(\"x is equal to five\")\n",
    "else:\n",
    "    print(\"x is not equal to five\")"
   ]
  },
  {
   "cell_type": "markdown",
   "metadata": {},
   "source": [
    "# Let's Develop It!'"
   ]
  },
  {
   "cell_type": "markdown",
   "metadata": {},
   "source": [
    "Exercise 1:\n",
    "- Ask the user for a number between 1-10\n",
    "- If the number is less than or equal to five, print \"Your number is less than or equa to five\"\n",
    "- If the number is greater than five, print \"Your number is greater than five\""
   ]
  },
  {
   "cell_type": "markdown",
   "metadata": {},
   "source": [
    "# Indentation"
   ]
  },
  {
   "cell_type": "markdown",
   "metadata": {},
   "source": [
    "The line that begins a new block ends with a colon.\n",
    "\n",
    "blocks begin when text is indented and end when unindented\n",
    "\n",
    "Let's look at the previous example again with a few minor changes and examine the meaning of its indentation"
   ]
  },
  {
   "cell_type": "code",
   "execution_count": null,
   "metadata": {
    "collapsed": true
   },
   "outputs": [],
   "source": [
    "# Try this with different values of x and see what prints and what the value of a is\n",
    "x = 6"
   ]
  },
  {
   "cell_type": "code",
   "execution_count": null,
   "metadata": {},
   "outputs": [],
   "source": [
    "if x == 5:\n",
    "    print('x is equal to 5')\n",
    "    a = 1\n",
    "    print('Still in the x == 5 block')\n",
    "else:\n",
    "    print('x is not equal to 5')\n",
    "    a = 2\n",
    "print('Outside of if and else blocks. This will run regardless')\n",
    "print('Value of a is', a)"
   ]
  },
  {
   "cell_type": "markdown",
   "metadata": {},
   "source": [
    "# Chained Conditionals"
   ]
  },
  {
   "cell_type": "markdown",
   "metadata": {},
   "source": [
    "Use elif to creat as many conditionals as you like, chained together. "
   ]
  },
  {
   "cell_type": "code",
   "execution_count": null,
   "metadata": {
    "collapsed": true
   },
   "outputs": [],
   "source": [
    "x = 5"
   ]
  },
  {
   "cell_type": "code",
   "execution_count": null,
   "metadata": {},
   "outputs": [],
   "source": [
    "if x > 5:\n",
    "    print('x is greater than 5')\n",
    "elif x < 5:\n",
    "    print('x is less than 5')\n",
    "else:\n",
    "    print('x is equal to 5')"
   ]
  },
  {
   "cell_type": "markdown",
   "metadata": {},
   "source": [
    "# Nested Conditionals"
   ]
  },
  {
   "cell_type": "markdown",
   "metadata": {},
   "source": [
    "Conditionals can also be nested."
   ]
  },
  {
   "cell_type": "code",
   "execution_count": null,
   "metadata": {
    "collapsed": true
   },
   "outputs": [],
   "source": [
    "x = 11"
   ]
  },
  {
   "cell_type": "code",
   "execution_count": null,
   "metadata": {},
   "outputs": [],
   "source": [
    "if x > 5:\n",
    "    print('x is greater than 5')\n",
    "    if x > 10:\n",
    "        print('...it is also greater than 10')\n",
    "    print('Done evaluating the x > 10 block')\n",
    "print('Done evaluating the x > 5 block')"
   ]
  },
  {
   "cell_type": "code",
   "execution_count": null,
   "metadata": {
    "collapsed": true
   },
   "outputs": [],
   "source": []
  },
  {
   "cell_type": "markdown",
   "metadata": {},
   "source": [
    "# Let's Develop It - Guessing Game"
   ]
  },
  {
   "cell_type": "markdown",
   "metadata": {},
   "source": [
    "Exercise 2:\n",
    "- set a variable to a number between 1-10\n",
    "- Ask the user to guess the number\n",
    "- Either respond YES or Higher or Lower"
   ]
  },
  {
   "cell_type": "markdown",
   "metadata": {},
   "source": [
    "# Let's Develop Together Fun Example"
   ]
  },
  {
   "cell_type": "code",
   "execution_count": null,
   "metadata": {},
   "outputs": [],
   "source": [
    "health = 100\n",
    "\n",
    "print(\"A vicious warg is chasing you.\\n\")\n",
    "print(\"Options:\")\n",
    "print(\"1 - Hide in the cave.\")\n",
    "print(\"2 - Climb a tree.\")\n",
    "\n",
    "input_value = input(\"Enter choice: \")\n",
    "\n",
    "if input_value == '1':\n",
    "    print('You hide in a cave.'  )\n",
    "    print('The warg finds you and injures your leg with its claws.'  )\n",
    "    health = health - 10\n",
    "    \n",
    "    print(\"Now what do you want to do?\")\n",
    "    print(\"1 - Call for a helicopter?\")\n",
    "    print(\"2 - Fight him with your sword?\")\n",
    "    \n",
    "    input_value = input(\"Enter choice: \")\n",
    "    if input_value == 1:\n",
    "        print(\"Ok now you are safe!\") #print health here too\n",
    "        \n",
    "    else:\n",
    "        health = health - 20\n",
    "        print(\"Ah - you've been seriously injured!\") #print health here\n",
    "    \n",
    "    \n",
    "elif input_value == '2':\n",
    "    print('You climb a tree.')\n",
    "    print('The warg eventually looses interest and wanders off')\n",
    "    #Create a nested if statement here, similar to the one above for next step in game and print health as well.\n",
    "    \n",
    "\n",
    "print(\"Game under construction. Come back later\")\n",
    "\n",
    "#Can you also add line breaks to make the game easier to read?"
   ]
  },
  {
   "cell_type": "markdown",
   "metadata": {},
   "source": [
    "# Iteration"
   ]
  },
  {
   "cell_type": "markdown",
   "metadata": {},
   "source": [
    "The repeated execution of a set of statements is called iteration\n",
    "\n",
    "One way to acheive this, is with the while loop.  \n",
    "\n",
    "A while loop runs until some conditions stops it. "
   ]
  },
  {
   "cell_type": "code",
   "execution_count": null,
   "metadata": {},
   "outputs": [],
   "source": [
    "x = 10\n",
    "while x > 0:\n",
    "    print(x)\n",
    "    x -= 1  #This is shortened form of x = x - 1\n",
    "print('Done')"
   ]
  },
  {
   "cell_type": "markdown",
   "metadata": {},
   "source": [
    "\n",
    "The while statement takes a boolean expression. While it is True, the block is repeated"
   ]
  },
  {
   "cell_type": "markdown",
   "metadata": {},
   "source": [
    "# Using \"Break\" to Stop the While Loop"
   ]
  },
  {
   "cell_type": "markdown",
   "metadata": {},
   "source": [
    "A loop can terminate at any point with a break"
   ]
  },
  {
   "cell_type": "code",
   "execution_count": null,
   "metadata": {},
   "outputs": [],
   "source": [
    "while True:\n",
    "    name = input(\"What is your name (type 'quit' to quit)? \")\n",
    "    if name == 'quit':\n",
    "        break\n",
    "    print(\"Hello,\", name)"
   ]
  },
  {
   "cell_type": "markdown",
   "metadata": {},
   "source": [
    "# While Loops Example"
   ]
  },
  {
   "cell_type": "markdown",
   "metadata": {},
   "source": [
    "Consider the following example that uses iteration to derive a factorial"
   ]
  },
  {
   "cell_type": "code",
   "execution_count": null,
   "metadata": {},
   "outputs": [],
   "source": [
    "input_value = input('Enter a positive integer:')\n",
    "n = int(input_value)\n",
    "result = 1\n",
    "while n > 1:\n",
    "    result = result * n\n",
    "    print(result)\n",
    "    n = n - 1\n",
    "print(\"The factorial of \" + input_value + \" is: \", result)"
   ]
  },
  {
   "cell_type": "markdown",
   "metadata": {},
   "source": [
    "# Let's Develop It! - While Loops"
   ]
  },
  {
   "cell_type": "markdown",
   "metadata": {},
   "source": [
    "Exercise 3:  \n",
    "Write a program that takes numbers from user input and adds thems all together for a final result.  \n",
    "This program should stop taking input, display the answer and exit when the user types \"quit\".  \n",
    "Hint: - Use the \"while True\" example as a template"
   ]
  },
  {
   "cell_type": "code",
   "execution_count": null,
   "metadata": {
    "collapsed": true
   },
   "outputs": [],
   "source": []
  },
  {
   "cell_type": "code",
   "execution_count": null,
   "metadata": {
    "collapsed": true
   },
   "outputs": [],
   "source": []
  },
  {
   "cell_type": "markdown",
   "metadata": {},
   "source": [
    "# For Loops"
   ]
  },
  {
   "cell_type": "markdown",
   "metadata": {},
   "source": [
    "Looping through a collection can be accomplished with a for loop  \n",
    "First we need a collection. We create a list of numbers to loop over."
   ]
  },
  {
   "cell_type": "code",
   "execution_count": null,
   "metadata": {},
   "outputs": [],
   "source": [
    "numbers = [1, 3, 8]\n",
    "for number in numbers:\n",
    "    print(\"The current number is: \", number)"
   ]
  },
  {
   "cell_type": "markdown",
   "metadata": {},
   "source": [
    "# For Loops in Detail"
   ]
  },
  {
   "cell_type": "code",
   "execution_count": null,
   "metadata": {},
   "outputs": [],
   "source": [
    "numbers = [1, 3, 8]\n",
    "for number in numbers:\n",
    "    print(\"The current number is:\", number)"
   ]
  },
  {
   "cell_type": "code",
   "execution_count": null,
   "metadata": {},
   "outputs": [],
   "source": [
    "numbers = [1, 3, 8]\n",
    "counter = 1\n",
    "for number in numbers:\n",
    "    counter += number\n",
    "    print(counter)"
   ]
  },
  {
   "cell_type": "markdown",
   "metadata": {},
   "source": [
    "The for loop has three parts:  \n",
    "    - The collection to loop over - numbers  \n",
    "    - The name to give each element - number  \n",
    "    - The block of statements to execute with the element  \n",
    "    - The print statement"
   ]
  },
  {
   "cell_type": "markdown",
   "metadata": {},
   "source": [
    "#### What would happen if we un-indented the print statement above? Try it!\n",
    "#### How do we modify the function to subract the number instead of adding it?"
   ]
  },
  {
   "cell_type": "markdown",
   "metadata": {},
   "source": [
    "# Let's Develop It - For Loops"
   ]
  },
  {
   "cell_type": "markdown",
   "metadata": {},
   "source": [
    "Exercise 4:   \n",
    "- create a list of strings eg. ['red','yellow','blue']\n",
    "- for each word in the string, print that word\n",
    "\n"
   ]
  },
  {
   "cell_type": "markdown",
   "metadata": {},
   "source": [
    "Exercise 5:\n",
    "- Type in range(5) and see what happens. Note that range gives you numbers from zero to (n-1)\n",
    "- Complete the for loop below\n",
    "- Note that \"pass\" is used to tell python to ignore the function for now\n",
    "- HINT: You will have to use an if statement\n",
    "    "
   ]
  },
  {
   "cell_type": "code",
   "execution_count": null,
   "metadata": {
    "collapsed": true
   },
   "outputs": [],
   "source": [
    "result = 1\n",
    "for num in range(5):\n",
    "    #multiply each number to the result as long as the number is not zero\n",
    "    #print the total at the END\n",
    "    pass"
   ]
  },
  {
   "cell_type": "markdown",
   "metadata": {},
   "source": [
    "# Functions"
   ]
  },
  {
   "cell_type": "markdown",
   "metadata": {},
   "source": [
    "A named unit of code that performs a specific task\n",
    "\n",
    "To use a function, call it with ()\n",
    "\n",
    "We have already called print, input, type, int, float, and len"
   ]
  },
  {
   "cell_type": "code",
   "execution_count": null,
   "metadata": {},
   "outputs": [],
   "source": [
    "print(type(3))"
   ]
  },
  {
   "cell_type": "code",
   "execution_count": null,
   "metadata": {},
   "outputs": [],
   "source": [
    "#use len() function to get the length of a list.\n",
    "numbers = [1, 2, 3]\n",
    "print(len(numbers))"
   ]
  },
  {
   "cell_type": "markdown",
   "metadata": {},
   "source": [
    "# Function Calls"
   ]
  },
  {
   "cell_type": "code",
   "execution_count": null,
   "metadata": {},
   "outputs": [],
   "source": [
    "# Repeating the previous example for reference\n",
    "a = 3\n",
    "print(type(a))"
   ]
  },
  {
   "cell_type": "markdown",
   "metadata": {},
   "source": [
    "A function can take arguments\n",
    "\n",
    "In the example above, the variable a is passed as an argument to the function type\n",
    "\n",
    "A function call can be an argument to another function call."
   ]
  },
  {
   "cell_type": "markdown",
   "metadata": {},
   "source": [
    "# Function Definitions - Create our Own Functions"
   ]
  },
  {
   "cell_type": "code",
   "execution_count": null,
   "metadata": {
    "collapsed": true
   },
   "outputs": [],
   "source": [
    "def print_greeting(name):\n",
    "    print(\"Hi\", name)\n",
    "    print(\"How are you\")"
   ]
  },
  {
   "cell_type": "markdown",
   "metadata": {},
   "source": [
    "**The function definition has the following parts**:\n",
    "\n",
    "The def keyword signifies we are defining a function  \n",
    "The name of the function being defined - print_greeting  \n",
    "The parameters in parentheses - name  \n",
    "The function body"
   ]
  },
  {
   "cell_type": "markdown",
   "metadata": {},
   "source": [
    "# Function Returns"
   ]
  },
  {
   "cell_type": "markdown",
   "metadata": {},
   "source": [
    "Allows for calling a function for a value (rather than printing)  \n",
    "No return? -> Returns the value None  \n"
   ]
  },
  {
   "cell_type": "code",
   "execution_count": null,
   "metadata": {
    "collapsed": true
   },
   "outputs": [],
   "source": [
    "def plus_5(x):\n",
    "    return x + 5\n",
    "\n",
    "y = plus_5(4)"
   ]
  },
  {
   "cell_type": "code",
   "execution_count": null,
   "metadata": {},
   "outputs": [],
   "source": [
    "y"
   ]
  },
  {
   "cell_type": "markdown",
   "metadata": {},
   "source": [
    "#### Write a function called minus_5 that subracts five from a number"
   ]
  },
  {
   "cell_type": "markdown",
   "metadata": {},
   "source": [
    "# Functions with No Arguments"
   ]
  },
  {
   "cell_type": "markdown",
   "metadata": {},
   "source": [
    "A function does not have to take arguments, as in the following example:"
   ]
  },
  {
   "cell_type": "code",
   "execution_count": null,
   "metadata": {},
   "outputs": [],
   "source": [
    "def newline():\n",
    "    print('')\n",
    "\n",
    "newline()\n",
    "# prints an empty line. None is returned"
   ]
  },
  {
   "cell_type": "markdown",
   "metadata": {},
   "source": [
    "This is useful when the function is intended to always do the same thing"
   ]
  },
  {
   "cell_type": "markdown",
   "metadata": {},
   "source": [
    "# Scope"
   ]
  },
  {
   "cell_type": "markdown",
   "metadata": {},
   "source": [
    "The scope of a variable is the area of code where it is valid\n",
    "\n",
    "Variables defined within a function can not be used elsewhere."
   ]
  },
  {
   "cell_type": "code",
   "execution_count": null,
   "metadata": {
    "collapsed": true
   },
   "outputs": [],
   "source": [
    "def get_average(a, b):\n",
    "    total = a + b\n",
    "    return total / 2.0\n",
    "\n",
    "avg = get_average(10, 20)"
   ]
  },
  {
   "cell_type": "code",
   "execution_count": null,
   "metadata": {},
   "outputs": [],
   "source": [
    "avg"
   ]
  },
  {
   "cell_type": "markdown",
   "metadata": {},
   "source": [
    "# Let's Develop It! - Functions"
   ]
  },
  {
   "cell_type": "markdown",
   "metadata": {},
   "source": [
    "Exercise 6: (We will do this one together)\n",
    "- Write a function that takes in two numbers and returns the larger number\n",
    "- HINT: google search for how to do this easily in python\n",
    "- Test it out by calling the function"
   ]
  },
  {
   "cell_type": "code",
   "execution_count": null,
   "metadata": {
    "collapsed": true
   },
   "outputs": [],
   "source": []
  },
  {
   "cell_type": "markdown",
   "metadata": {},
   "source": [
    "Exercise 7:\n",
    "- Write a function that takes in two numbers and multiplies them together\n"
   ]
  },
  {
   "cell_type": "code",
   "execution_count": null,
   "metadata": {
    "collapsed": true
   },
   "outputs": [],
   "source": []
  },
  {
   "cell_type": "markdown",
   "metadata": {},
   "source": [
    "Exercise 8: \n",
    "- Write a function that takes a noun and a verb and prints out two statements\n",
    "- \"___ is a noun\"\n",
    "- \"___ is a verb\"\n",
    "    "
   ]
  },
  {
   "cell_type": "code",
   "execution_count": null,
   "metadata": {
    "collapsed": true
   },
   "outputs": [],
   "source": []
  },
  {
   "cell_type": "code",
   "execution_count": null,
   "metadata": {
    "collapsed": true
   },
   "outputs": [],
   "source": []
  },
  {
   "cell_type": "code",
   "execution_count": null,
   "metadata": {
    "collapsed": true
   },
   "outputs": [],
   "source": []
  },
  {
   "cell_type": "code",
   "execution_count": null,
   "metadata": {
    "collapsed": true
   },
   "outputs": [],
   "source": []
  },
  {
   "cell_type": "code",
   "execution_count": null,
   "metadata": {
    "collapsed": true
   },
   "outputs": [],
   "source": []
  }
 ],
 "metadata": {
  "kernelspec": {
   "display_name": "Python [conda env:py36]",
   "language": "python",
   "name": "conda-env-py36-py"
  },
  "language_info": {
   "codemirror_mode": {
    "name": "ipython",
    "version": 3
   },
   "file_extension": ".py",
   "mimetype": "text/x-python",
   "name": "python",
   "nbconvert_exporter": "python",
   "pygments_lexer": "ipython3",
   "version": "3.6.1"
  }
 },
 "nbformat": 4,
 "nbformat_minor": 2
}
